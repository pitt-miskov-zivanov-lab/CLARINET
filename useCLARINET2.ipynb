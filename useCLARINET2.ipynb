{
 "cells": [
  {
   "cell_type": "code",
   "execution_count": 29,
   "metadata": {},
   "outputs": [],
   "source": [
    "reading = '/Users/jasmine/Downloads/MachineReadingOutput.csv'\n",
    "baseline = '/Users/jasmine/Downloads/BooleanTcell.xlsx'\n",
    "out_dir = '/Users/jasmine/Desktop/output6j6/'\n",
    "return_path_TH = 1\n",
    "FC_TH = 2 "
   ]
  },
  {
   "cell_type": "code",
   "execution_count": 30,
   "metadata": {},
   "outputs": [],
   "source": [
    "import pandas as pd\n",
    "import re\n",
    "import numpy as np\n",
    "import networkx as nx\n",
    "import math\n",
    "import pickle\n",
    "import community\n",
    "import matplotlib.pyplot as plt\n",
    "import seaborn as sns\n",
    "import argparse\n",
    "import os\n",
    "import time\n",
    "import matplotlib.pyplot as plt"
   ]
  },
  {
   "cell_type": "code",
   "execution_count": 31,
   "metadata": {},
   "outputs": [],
   "source": [
    "from runClarinet import create_eclg\n",
    "from runClarinet import get_model\n",
    "from runClarinet import getVariableName\n",
    "from runClarinet import node_weighting\n",
    "from runClarinet import edge_weighting\n",
    "from runClarinet import clustering\n",
    "from runClarinet import merge_clusters"
   ]
  },
  {
   "cell_type": "code",
   "execution_count": 32,
   "metadata": {},
   "outputs": [
    {
     "name": "stdout",
     "output_type": "stream",
     "text": [
      "['AKT', 'be_AKT', 'be', 'P31749', '', 'family', '', '', 'CD4', 'uniprot_P01730', 'uniprot', 'P01730', '', 'protein', '', '', 'decreases', '', '', '', '', '', '', '', '', 'PMC2275380', '', '']\n",
      "['AKT', 'be_AKT', 'be', 'P31749', '', 'family', '', '', 'CTRL', 'uniprot_P40313', 'uniprot', 'P40313', '', 'protein', '', '', 'decreases', '', '', '', '', '', '', '', '', 'PMC2275380', '', '']\n",
      "['TGFBETA', 'interpro_P01137', 'interpro', 'P01137', '', 'family', '', '', 'AKT', 'be_AKT', 'be', 'P31749', '', 'family', '', '', 'increases', '', '', '', '', '', '', '', '', 'PMC2275380', '', '']\n",
      "['Foxp3', 'uniprot_Q9BZS1', 'uniprot', 'Q9BZS1', '', 'protein', '', '', 'Ctla4', 'uniprot_P16410', 'uniprot', 'P16410', '', 'protein', '', '', 'increases', '', '', '', '', '', '', '', '', 'PMC2275380', '', '']\n",
      "['Foxp3', 'uniprot_Q9BZS1', 'uniprot', 'Q9BZS1', '', 'protein', '', '', 'Gpr83', 'uniprot_Q9NYM4', 'uniprot', 'Q9NYM4', '', 'protein', '', '', 'increases', '', '', '', '', '', '', '', '', 'PMC2275380', '', '']\n",
      "['Pten', 'uniprot_P60484', 'uniprot', 'P60484', '', 'protein', '', '', 'CD8', 'be_CD8', 'be', 'CD8', '', 'family', '', '', 'increases', '', '', '', '', '', '', '', '', 'PMC3375464', '', '']\n",
      "['PTEN', 'uniprot_P60484', 'uniprot', 'P60484', '', 'protein', '', '', 'HSC', 'uniprot_P19526', 'uniprot', 'P19526', '', 'protein', '', '', 'increases', '', '', '', '', '', '', '', '', 'PMC3375464', '', '']\n",
      "['CHK1', 'uniprot_O14757', 'uniprot', 'O14757', '', 'protein', '', '', 'Akt', 'be_AKT', 'be', 'P31749', '', 'family', '', '', 'increases', '', '', '', '', '', '', '', '', 'PMC3375464', '', '']\n",
      "['Foxo', 'be_FOXO', 'be', 'FOXO', '', 'family', '', '', 'Foxo3a', 'uniprot_O43524', 'uniprot', 'O43524', '', 'protein', '', '', 'decreases', '', '', '', '', '', '', '', '', 'PMC3375464', '', '']\n",
      "['PDL1', 'uniprot_Q9NZQ7', 'uniprot', 'Q9NZQ7', '', 'protein', '', '', 'gp120', 'uniprot_Q14624', 'uniprot', 'Q14624', '', 'protein', '', '', 'increases', '', '', '', '', '', '', '', '', 'PMC4669187', '', '']\n",
      "['PDL1', 'uniprot_Q9NZQ7', 'uniprot', 'Q9NZQ7', '', 'protein', '', '', 'Treg', 'uaz_UAZ02439', 'uaz', 'UAZ02439', '', 'protein', '', '', 'decreases', '', '', '', '', '', '', '', '', 'PMC4669187', '', '']\n",
      "['PDL1', 'uniprot_Q9NZQ7', 'uniprot', 'Q9NZQ7', '', 'protein', '', '', 'CD8', 'be_CD8', 'be', 'CD8', '', 'family', '', '', 'decreases', '', '', '', '', '', '', '', '', 'PMC4669187', '', '']\n",
      "['TCR', 'uniprot_P04234', 'uniprot', 'P04234', '', 'protein', '', '', 'CD4', 'uniprot_P01730', 'uniprot', 'P01730', '', 'protein', '', '', 'decreases', '', '', '', '', '', '', '', '', 'PMC3949578', '', '']\n",
      "['Itk', 'uniprot_Q08881', 'uniprot', 'Q08881', '', 'protein', '', '', 'CD4', 'uniprot_P01730', 'uniprot', 'P01730', '', 'protein', '', '', 'decreases', '', '', '', '', '', '', '', '', 'PMC3949578', '', '']\n",
      "['AKT', 'uaz_UAZ00283', 'uaz', 'P31749', '', 'protein', '', '', 'CD4', 'uniprot_P01730', 'uniprot', 'P01730', '', 'protein', '', '', 'decreases', '', '', '', '', '', '', '', '', 'PMC3949578', '', '']\n",
      "['AKT', 'uaz_UAZ00283', 'uaz', 'P31749', '', 'protein', '', '', 'Itk', 'uniprot_Q08881', 'uniprot', 'Q08881', '', 'protein', '', '', 'decreases', '', '', '', '', '', '', '', '', 'PMC3949578', '', '']\n",
      "['FoxP3', 'uniprot_Q9BZS1', 'uniprot', 'Q9BZS1', '', 'protein', '', '', 'Itk', 'uniprot_Q08881', 'uniprot', 'Q08881', '', 'protein', '', '', 'increases', '', '', '', '', '', '', '', '', 'PMC3949578', '', '']\n",
      "['Itk', 'uniprot_Q08881', 'uniprot', 'Q08881', '', 'protein', '', '', 'CD4', 'uniprot_P01730', 'uniprot', 'P01730', '', 'protein', '', '', 'increases', '', '', '', '', '', '', '', '', 'PMC3949578', '', '']\n",
      "['IL2', 'uniprot_P60568', 'uniprot', 'P60568', '', 'protein', '', '', 'Itk', 'uniprot_Q08881', 'uniprot', 'Q08881', '', 'protein', '', '', 'increases', '', '', '', '', '', '', '', '', 'PMC3949578', '', '']\n",
      "['TCR', 'uniprot_P04234', 'uniprot', 'P04234', '', 'protein', '', '', 'Itk', 'uniprot_Q08881', 'uniprot', 'Q08881', '', 'protein', '', '', 'increases', '', '', '', '', '', '', '', '', 'PMC3949578', '', '']\n",
      "['FoxP3', 'uniprot_Q9BZS1', 'uniprot', 'Q9BZS1', '', 'protein', '', '', 'Itk', 'uniprot_Q08881', 'uniprot', 'Q08881', '', 'protein', '', '', 'increases', '', '', '', '', '', '', '', '', 'PMC3949578', '', '']\n",
      "['TCR', 'uniprot_P04234', 'uniprot', 'P04234', '', 'protein', '', '', 'Pten', 'uniprot_P60484', 'uniprot', 'P60484', '', 'protein', '', '', 'decreases', '', '', '', '', '', '', '', '', 'PMC3949578', '', '']\n",
      "['Pten', 'uniprot_P60484', 'uniprot', 'P60484', '', 'protein', '', '', 'Itk', 'uniprot_Q08881', 'uniprot', 'Q08881', '', 'protein', '', '', 'decreases', '', '', '', '', '', '', '', '', 'PMC3949578', '', '']\n",
      "['Itk', 'uniprot_Q08881', 'uniprot', 'Q08881', '', 'protein', '', '', 'Th17', 'uaz_UAZ02468', 'uaz', 'UAZ02468', '', 'protein', '', '', 'increases', '', '', '', '', '', '', '', '', 'PMC3949578', '', '']\n",
      "['CD4', 'uniprot_P01730', 'uniprot', 'P01730', '', 'protein', '', '', 'IL17A', 'uniprot_Q16552', 'uniprot', 'Q16552', '', 'protein', '', '', 'decreases', '', '', '', '', '', '', '', '', 'PMC3949578', '', '']\n",
      "['HIF1alpha', 'uniprot_Q16665', 'uniprot', 'Q16665', '', 'protein', '', '', 'IL17A', 'uniprot_Q16552', 'uniprot', 'Q16552', '', 'protein', '', '', 'decreases', '', '', '', '', '', '', '', '', 'PMC3949578', '', '']\n",
      "['TCR', 'uniprot_P04234', 'uniprot', 'P04234', '', 'protein', '', '', 'CD25', 'uniprot_P01589', 'uniprot', 'P01589', '', 'protein', '', '', 'increases', '', '', '', '', '', '', '', '', 'PMC3949578', '', '']\n",
      "['Itk', 'uniprot_Q08881', 'uniprot', 'Q08881', '', 'protein', '', '', 'Myc', 'uniprot_P01106', 'uniprot', 'P01106', '', 'protein', '', '', 'decreases', '', '', '', '', '', '', '', '', 'PMC3949578', '', '']\n",
      "['IQGAP1', 'uniprot_P46940', 'uniprot', 'P46940', '', 'protein', '', '', 'MEK2', 'uniprot_P36507', 'uniprot', 'P36507', '', 'protein', '', '', 'decreases', '', '', '', '', '', '', '', '', 'PMC3625979', '', '']\n",
      "['MEK1', 'uniprot_Q02750', 'uniprot', 'Q02750', '', 'protein', '', '', 'AKT', 'be_AKT', 'be', 'P31749', '', 'family', '', '', 'decreases', '', '', '', '', '', '', '', '', 'PMC3625979', '', '']\n",
      "['AKT', 'be_AKT', 'be', 'P31749', '', 'family', '', '', 'MEK1', 'uniprot_Q02750', 'uniprot', 'Q02750', '', 'protein', '', '', 'decreases', '', '', '', '', '', '', '', '', 'PMC3625979', '', '']\n",
      "['MEK1', 'uniprot_Q02750', 'uniprot', 'Q02750', '', 'protein', '', '', 'AKT', 'be_AKT', 'be', 'P31749', '', 'family', '', '', 'decreases', '', '', '', '', '', '', '', '', 'PMC3625979', '', '']\n",
      "['AKT', 'be_AKT', 'be', 'P31749', '', 'family', '', '', 'MAGI1', 'uniprot_Q6P9H4', 'uniprot', 'Q6P9H4', '', 'protein', '', '', 'decreases', '', '', '', '', '', '', '', '', 'PMC3625979', '', '']\n",
      "['ERK', 'be_ERK', 'be', 'P29323', '', 'family', '', '', 'S5B', 'uaz_UAZ02655', 'uaz', 'UAZ02655', '', 'protein', '', '', 'increases', '', '', '', '', '', '', '', '', 'PMC3625979', '', '']\n",
      "['MEK', 'be_MEK', 'be', 'MEK', '', 'family', '', '', 'PTEN', 'uniprot_P60484', 'uniprot', 'P60484', '', 'protein', '', '', 'increases', '', '', '', '', '', '', '', '', 'PMC3625979', '', '']\n",
      "['CK2', 'uaz_UAZ00325', 'uaz', 'Q53GL0', '', 'protein', '', '', 'CD4', 'uaz_UAZ00341', 'uaz', 'UAZ00341', '', 'protein', '', '', 'increases', '', '', '', '', '', '', '', '', 'PMC5193405', '', '']\n",
      "['SP', 'uniprot_Q03403', 'uniprot', 'Q03403', '', 'protein', '', '', 'CD69', 'uniprot_Q07108', 'uniprot', 'Q07108', '', 'protein', '', '', 'increases', '', '', '', '', '', '', '', '', 'PMC5193405', '', '']\n",
      "['CK2', 'uaz_UAZ00325', 'uaz', 'UAZ00325', '', 'protein', '', '', 'CDC37', 'uniprot_Q16543', 'uniprot', 'Q16543', '', 'protein', '', '', 'increases', '', '', '', '', '', '', '', '', 'PMC5193405', '', '']\n",
      "['CK2', 'uaz_UAZ00325', 'uaz', 'UAZ00325', '', 'protein', '', '', 'Akt', 'be_AKT', 'be', 'P31749', '', 'family', '', '', 'increases', '', '', '', '', '', '', '', '', 'PMC5193405', '', '']\n",
      "['CK2', 'be_CK2', 'be', 'Q53GL0', '', 'protein', '', '', 'CDC37', 'uniprot_Q16543', 'uniprot', 'Q16543', '', 'protein', '', '', 'increases', '', '', '', '', '', '', '', '', 'PMC5193405', '', '']\n",
      "['ERK', 'be_ERK', 'be', 'P29323', '', 'family', '', '', 'CK2', 'uaz_UAZ00325', 'uaz', 'Q53GL0', '', 'protein', '', '', 'increases', '', '', '', '', '', '', '', '', 'PMC5193405', '', '']\n",
      "['Bcl2', 'uniprot_P10415', 'uniprot', 'P10415', '', 'protein', '', '', 'CD3', 'be_CD3', 'be', 'CD3', '', 'protein', '', '', 'increases', '', '', '', '', '', '', '', '', 'PMC5193405', '', '']\n",
      "['Bcl2', 'uniprot_P10415', 'uniprot', 'P10415', '', 'protein', '', '', 'CD3', 'be_CD3', 'be', 'CD3', '', 'protein', '', '', 'increases', '', '', '', '', '', '', '', '', 'PMC5193405', '', '']\n",
      "['CD5', 'uniprot_P06127', 'uniprot', 'P06127', '', 'protein', '', '', 'CK2', 'be_CK2', 'be', 'Q53GL0', '', 'protein', '', '', 'increases', '', '', '', '', '', '', '', '', 'PMC5193405', '', '']\n",
      "['CD5', 'uniprot_P06127', 'uniprot', 'P06127', '', 'protein', '', '', 'P38', 'be_p38', 'be', 'p38', '', 'family', '', '', 'increases', '', '', '', '', '', '', '', '', 'PMC5193405', '', '']\n",
      "['P38', 'be_p38', 'be', 'p38', '', 'family', '', '', 'CD5', 'uniprot_P06127', 'uniprot', 'P06127', '', 'protein', '', '', 'increases', '', '', '', '', '', '', '', '', 'PMC5193405', '', '']\n",
      "['PTEN', 'uniprot_P60484', 'uniprot', 'P60484', '', 'protein', '', '', 'AKT', 'be_AKT', 'be', 'P31749', '', 'family', '', '', 'increases', '', '', '', '', '', '', '', '', 'PMC4712330', '', '']\n",
      "['RAS', 'pfam_PF00071', 'pfam', 'PF00071', '', 'family', '', '', 'PTEN', 'uniprot_P60484', 'uniprot', 'P60484', '', 'protein', '', '', 'decreases', '', '', '', '', '', '', '', '', 'PMC4712330', '', '']\n",
      "['NEDD4', 'uniprot_P46934', 'uniprot', 'P46934', '', 'protein', '', '', 'PTEN', 'uniprot_P60484', 'uniprot', 'P60484', '', 'protein', '', '', 'decreases', '', '', '', '', '', '', '', '', 'PMC4712330', '', '']\n",
      "['P53', 'uniprot_P04637', 'uniprot', 'P04637', '', 'protein', '', '', 'PTEN', 'uniprot_P60484', 'uniprot', 'P60484', '', 'protein', '', '', 'decreases', '', '', '', '', '', '', '', '', 'PMC4712330', '', '']\n",
      "['PI3K', 'be_PI3K', 'be', 'P42336', '', 'protein', '', '', 'AKT', 'be_AKT', 'be', 'P31749', '', 'family', '', '', 'increases', '', '', '', '', '', '', '', '', 'PMC4712330', '', '']\n",
      "['PTEN', 'uniprot_P60484', 'uniprot', 'P60484', '', 'protein', '', '', 'AKT', 'be_AKT', 'be', 'P31749', '', 'family', '', '', 'decreases', '', '', '', '', '', '', '', '', 'PMC4712330', '', '']\n",
      "['PI3K', 'be_PI3K', 'be', 'P42336', '', 'protein', '', '', 'PTEN', 'uniprot_P60484', 'uniprot', 'P60484', '', 'protein', '', '', 'increases', '', '', '', '', '', '', '', '', 'PMC4712330', '', '']\n",
      "['PI3K', 'be_PI3K', 'be', 'P42336', '', 'protein', '', '', 'PTEN', 'uniprot_P60484', 'uniprot', 'P60484', '', 'protein', '', '', 'decreases', '', '', '', '', '', '', '', '', 'PMC4712330', '', '']\n",
      "['AKT', 'be_AKT', 'be', 'P31749', '', 'family', '', '', 'TBK1', 'uniprot_Q9UHD2', 'uniprot', 'Q9UHD2', '', 'protein', '', '', 'increases', '', '', '', '', '', '', '', '', 'PMC4302769', '', '']\n",
      "['mTORC1', 'be_mTORC1', 'be', 'Q8N122', '', 'protein', '', '', 'TBK1', 'uniprot_Q9UHD2', 'uniprot', 'Q9UHD2', '', 'protein', '', '', 'increases', '', '', '', '', '', '', '', '', 'PMC4302769', '', '']\n",
      "['TCR', 'uniprot_P04234', 'uniprot', 'P04234', '', 'protein', '', '', 'AKT', 'be_AKT', 'be', 'P31749', '', 'family', '', '', 'decreases', '', '', '', '', '', '', '', '', 'PMC4302769', '', '']\n",
      "['TBK1', 'uniprot_Q9UHD2', 'uniprot', 'Q9UHD2', '', 'protein', '', '', 'AKT', 'be_AKT', 'be', 'P31749', '', 'family', '', '', 'decreases', '', '', '', '', '', '', '', '', 'PMC4302769', '', '']\n",
      "['TBK1', 'uniprot_Q9UHD2', 'uniprot', 'Q9UHD2', '', 'protein', '', '', 'AKT', 'be_AKT', 'be', 'P31749', '', 'family', '', '', 'decreases', '', '', '', '', '', '', '', '', 'PMC4302769', '', '']\n",
      "['TBK1', 'uniprot_Q9UHD2', 'uniprot', 'Q9UHD2', '', 'protein', '', '', 'AKT', 'be_AKT', 'be', 'P31749', '', 'family', '', '', 'decreases', '', '', '', '', '', '', '', '', 'PMC4302769', '', '']\n",
      "['AKT', 'be_AKT', 'be', 'P31749', '', 'family', '', '', 'Foxo1', 'uniprot_Q12778', 'uniprot', 'Q12778', '', 'protein', '', '', 'decreases', '', '', '', '', '', '', '', '', 'PMC4302769', '', '']\n",
      "['AKT', 'be_AKT', 'be', 'P31749', '', 'family', '', '', 'TBK1', 'uniprot_Q9UHD2', 'uniprot', 'Q9UHD2', '', 'protein', '', '', 'increases', '', '', '', '', '', '', '', '', 'PMC4302769', '', '']\n",
      "['TBK1', 'uniprot_Q9UHD2', 'uniprot', 'Q9UHD2', '', 'protein', '', '', 'CD4', 'uniprot_P01730', 'uniprot', 'P01730', '', 'protein', '', '', 'decreases', '', '', '', '', '', '', '', '', 'PMC4302769', '', '']\n",
      "['TBK1', 'uniprot_Q9UHD2', 'uniprot', 'Q9UHD2', '', 'protein', '', '', 'Foxo1', 'uniprot_Q12778', 'uniprot', 'Q12778', '', 'protein', '', '', 'increases', '', '', '', '', '', '', '', '', 'PMC4302769', '', '']\n",
      "['TBK1', 'uniprot_Q9UHD2', 'uniprot', 'Q9UHD2', '', 'protein', '', '', 'AKT', 'be_AKT', 'be', 'P31749', '', 'family', '', '', 'increases', '', '', '', '', '', '', '', '', 'PMC4302769', '', '']\n",
      "['AKT', 'be_AKT', 'be', 'P31749', '', 'family', '', '', 'Foxo1', 'uniprot_Q12778', 'uniprot', 'Q12778', '', 'protein', '', '', 'decreases', '', '', '', '', '', '', '', '', 'PMC4302769', '', '']\n",
      "['TBK1', 'uniprot_Q9UHD2', 'uniprot', 'Q9UHD2', '', 'protein', '', '', 'AKT', 'be_AKT', 'be', 'P31749', '', 'family', '', '', 'increases', '', '', '', '', '', '', '', '', 'PMC4302769', '', '']\n",
      "['TBK1', 'uniprot_Q9UHD2', 'uniprot', 'Q9UHD2', '', 'protein', '', '', 'AKT', 'be_AKT', 'be', 'P31749', '', 'family', '', '', 'decreases', '', '', '', '', '', '', '', '', 'PMC4302769', '', '']\n",
      "['TBK1', 'uniprot_Q9UHD2', 'uniprot', 'Q9UHD2', '', 'protein', '', '', 'CD4', 'uniprot_P01730', 'uniprot', 'P01730', '', 'protein', '', '', 'increases', '', '', '', '', '', '', '', '', 'PMC4302769', '', '']\n",
      "['FOXO3', 'uniprot_O43524', 'uniprot', 'O43524', '', 'protein', '', '', 'FOXO3', 'uaz_UAZ03334', 'uaz', 'UAZ03334', '', 'protein', '', '', 'increases', '', '', '', '', '', '', '', '', 'PMC4487994', '', '']\n",
      "['PI', 'be_PI3K', 'be', 'P42336', '', 'protein', '', '', 'AKT', 'be_AKT', 'be', 'P31749', '', 'family', '', '', 'decreases', '', '', '', '', '', '', '', '', 'PMC4487994', '', '']\n",
      "['FASL', 'uniprot_P48023', 'uniprot', 'P48023', '', 'protein', '', '', 'FAS', 'uniprot_P25445', 'uniprot', 'P25445', '', 'protein', '', '', 'increases', '', '', '', '', '', '', '', '', 'PMC4487994', '', '']\n",
      "['Bcl2l11', 'uniprot_O43521', 'uniprot', 'O43521', '', 'gene', '', '', 'CD4', 'uniprot_P01730', 'uniprot', 'P01730', '', 'protein', '', '', 'increases', '', '', '', '', '', '', '', '', 'PMC4487994', '', '']\n",
      "['PI3K', 'be_PI3K', 'be', 'P42336', '', 'protein', '', '', 'PIP3', 'hmdb_HMDB10147', 'hmdb', 'HMDB10147', '', 'simple-chemical', '', '', 'increases', '', '', '', '', '', '', '', '', 'PMC4487994', '', '']\n",
      "['PI3', 'be_PI3K', 'be', 'P42336', '', 'protein', '', '', 'PIP3', 'hmdb_HMDB10147', 'hmdb', 'HMDB10147', '', 'simple-chemical', '', '', 'increases', '', '', '', '', '', '', '', '', 'PMC4487994', '', '']\n",
      "['SHIP', 'uniprot_Q92835', 'uniprot', 'Q92835', '', 'protein', '', '', 'PI', 'be_PI3K', 'be', 'P42336', '', 'protein', '', '', 'increases', '', '', '', '', '', '', '', '', 'PMC4487994', '', '']\n",
      "['SHIP1', 'uniprot_Q92835', 'uniprot', 'Q92835', '', 'protein', '', '', 'AKT', 'be_AKT', 'be', 'P31749', '', 'family', '', '', 'decreases', '', '', '', '', '', '', '', '', 'PMC4487994', '', '']\n",
      "['SHIP1', 'uniprot_Q92835', 'uniprot', 'Q92835', '', 'protein', '', '', 'AKT', 'be_AKT', 'be', 'P31749', '', 'family', '', '', 'decreases', '', '', '', '', '', '', '', '', 'PMC4487994', '', '']\n",
      "['BAM32', 'uniprot_Q9UN19', 'uniprot', 'Q9UN19', '', 'protein', '', '', 'PAK1', 'uniprot_Q13153', 'uniprot', 'Q13153', '', 'protein', '', '', 'increases', '', '', '', '', '', '', '', '', 'PMC4487994', '', '']\n",
      "['mTORC1', 'be_mTORC1', 'be', 'Q8N122', '', 'protein', '', '', 'PAK1', 'uniprot_Q13153', 'uniprot', 'Q13153', '', 'protein', '', '', 'increases', '', '', '', '', '', '', '', '', 'PMC4487994', '', '']\n",
      "['siPAK1', 'uaz_UAZ03324', 'uaz', 'UAZ03324', '', 'protein', '', '', 'PAK1', 'uniprot_Q13153', 'uniprot', 'Q13153', '', 'protein', '', '', 'decreases', '', '', '', '', '', '', '', '', 'PMC4487994', '', '']\n",
      "['SHIP1', 'uniprot_Q92835', 'uniprot', 'Q92835', '', 'protein', '', '', 'AKT', 'be_AKT', 'be', 'P31749', '', 'family', '', '', 'decreases', '', '', '', '', '', '', '', '', 'PMC4487994', '', '']\n",
      "['mTOR', 'uniprot_P42345', 'uniprot', 'P42345', '', 'protein', '', '', 'AKT', 'be_AKT', 'be', 'P31749', '', 'family', '', '', 'increases', '', '', '', '', '', '', '', '', 'PMC4487994', '', '']\n",
      "['mTOR', 'uniprot_P42345', 'uniprot', 'P42345', '', 'protein', '', '', 'Pak1', 'uniprot_Q13153', 'uniprot', 'Q13153', '', 'protein', '', '', 'decreases', '', '', '', '', '', '', '', '', 'PMC4487994', '', '']\n",
      "['mTOR', 'uniprot_P42345', 'uniprot', 'P42345', '', 'protein', '', '', 'PAK1', 'uniprot_Q13153', 'uniprot', 'Q13153', '', 'protein', '', '', 'increases', '', '', '', '', '', '', '', '', 'PMC4487994', '', '']\n",
      "['PI3K', 'be_PI3K', 'be', 'P42336', '', 'protein', '', '', 'PAK1', 'uniprot_Q13153', 'uniprot', 'Q13153', '', 'protein', '', '', 'decreases', '', '', '', '', '', '', '', '', 'PMC4487994', '', '']\n",
      "['ERK', 'be_ERK', 'be', 'P29323', '', 'family', '', '', 'PAK1', 'uniprot_Q13153', 'uniprot', 'Q13153', '', 'protein', '', '', 'increases', '', '', '', '', '', '', '', '', 'PMC4487994', '', '']\n",
      "['BIM', 'uniprot_O43521', 'uniprot', 'O43521', '', 'protein', '', '', 'PAK1', 'uniprot_Q13153', 'uniprot', 'Q13153', '', 'protein', '', '', 'increases', '', '', '', '', '', '', '', '', 'PMC4487994', '', '']\n",
      "['PDK1', 'uniprot_Q15118', 'uniprot', 'Q15118', '', 'protein', '', '', 'Akt', 'be_AKT', 'be', 'P31749', '', 'family', '', '', 'increases', '', '', '', '', '', '', '', '', 'PMC4550078', '', '']\n",
      "['CTLA4', 'uniprot_P16410', 'uniprot', 'P16410', '', 'protein', '', '', 'Akt', 'be_AKT', 'be', 'P31749', '', 'family', '', '', 'decreases', '', '', '', '', '', '', '', '', 'PMC4550078', '', '']\n",
      "['PD1', 'uniprot_P18621', 'uniprot', 'P18621', '', 'protein', '', '', 'Akt', 'be_AKT', 'be', 'P31749', '', 'family', '', '', 'decreases', '', '', '', '', '', '', '', '', 'PMC4550078', '', '']\n",
      "['IFNgamma', 'uniprot_P01579', 'uniprot', 'P01579', '', 'protein', '', '', 'Akt', 'be_AKT', 'be', 'P31749', '', 'family', '', '', 'increases', '', '', '', '', '', '', '', '', 'PMC4550078', '', '']\n",
      "['TIL', 'uniprot_Q15399', 'uniprot', 'Q15399', '', 'protein', '', '', 'Akt', 'be_AKT', 'be', 'P31749', '', 'family', '', '', 'decreases', '', '', '', '', '', '', '', '', 'PMC4550078', '', '']\n",
      "['PI3K', 'be_PI3K', 'be', 'P42336', '', 'protein', '', '', 'Akt', 'be_AKT', 'be', 'P31749', '', 'family', '', '', 'increases', '', '', '', '', '', '', '', '', 'PMC4496363', '', '']\n",
      "['PI3K', 'be_PI3K', 'be', 'P42336', '', 'protein', '', '', 'PTEN', 'uniprot_P60484', 'uniprot', 'P60484', '', 'protein', '', '', 'decreases', '', '', '', '', '', '', '', '', 'PMC4496363', '', '']\n",
      "['CK2', 'be_CK2', 'be', 'CK2', '', 'protein', '', '', 'PTEN', 'uniprot_P60484', 'uniprot', 'P60484', '', 'protein', '', '', 'decreases', '', '', '', '', '', '', '', '', 'PMC4496363', '', '']\n",
      "['PI3K', 'be_PI3K', 'be', 'P42336', '', 'protein', '', '', 'Akt', 'be_AKT', 'be', 'P31749', '', 'family', '', '', 'increases', '', '', '', '', '', '', '', '', 'PMC4496363', '', '']\n",
      "['PI3K', 'be_PI3K', 'be', 'P42336', '', 'protein', '', '', 'Akt', 'be_AKT', 'be', 'P31749', '', 'family', '', '', 'increases', '', '', '', '', '', '', '', '', 'PMC4496363', '', '']\n",
      "['Akt', 'be_AKT', 'be', 'P31749', '', 'family', '', '', 'FoxO3', 'uniprot_O43524', 'uniprot', 'O43524', '', 'protein', '', '', 'decreases', '', '', '', '', '', '', '', '', 'PMC4496363', '', '']\n",
      "['TCR', '', '', 'P04235', '', 'protein', '', '', 'NEDD4', '', '', 'P46934', '', 'protein', '', '', 'increases', '', '', '', '', '', '', '', '', 'PMC4418530', '', '//Hawse et al']\n",
      "['Foxo1', '', '', 'Q12778', '', 'protein', '', '', 'PTEN', '', '', 'P60484', '', 'protein', '', '', 'increases', '', '', '', '', '', '', '', '', 'PMC4418530', '', '']\n",
      "['MEK1', '', '', 'Q02750', '', 'protein', '', '', 'PTEN', '', '', 'P60485', '', 'protein', '', '', 'increases', '', '', '', '', '', '', '', '', 'PMC4418530', '', '']\n",
      "['CK2', '', '', 'Q53GL0', '', 'protein', '', '', 'PTEN', '', '', 'P60486', '', 'protein', '', '', 'decreases', '', '', '', '', '', '', '', '', 'PMC4418530', '', '']\n",
      "['NEDD4', '', '', 'P46934', '', 'protein', '', '', 'PTEN', '', '', 'P60487', '', 'protein', '', '', 'decreases', '', '', '', '', '', '', '', '', 'PMC4418530', '', '']\n",
      "['PIP3', '', '', 'HMDB10147', '', 'protein', '', '', 'AKT', '', '', 'P31749', '', 'protein', '', '', 'increases', '', '', '', '', '', '', '', '', 'PMC4418530', '', '']\n",
      "['MTORC2', '', '', 'Q6R327', '', 'Complex', '', '', 'AKT', '', '', 'P31750', '', 'protein', '', '', 'increases', '', '', '', '', '', '', '', '', 'PMC4418530', '', '']\n",
      "['TCR', '', '', 'P01850', '', 'protein', '', '', 'MTORC2', '', '', 'Q6R327', '', 'Complex', '', '', 'increases', '', '', '', '', '', '', '', '', 'PMC4418530', '', '']\n",
      "['AKT', '', '', 'P31749', '', 'protein', '', '', 'MTORC2', '', '', 'Q6R327', '', 'Complex', '', '', 'decreases', '', '', '', '', '', '', '', '', 'PMC4418530', '', '']\n",
      "['TCR', '', '', 'P01850', '', 'protein', '', '', 'PIP3', '', '', 'HMDB10147', '', 'protein', '', '', 'increases', '', '', '', '', '', '', '', '', 'PMC4418530', '', '']\n",
      "['PTEN', '', '', 'P60484', '', 'protein', '', '', 'PIP3', '', '', 'HMDB10148', '', 'protein', '', '', 'decreases', '', '', '', '', '', '', '', '', 'PMC4418530', '', '']\n",
      "['TCR', '', '', 'P01850', '', 'protein', '', '', 'MEK1', '', '', 'Q02750', '', 'protein', '', '', 'increases', '', '', '', '', '', '', '', '', 'PMC4418530', '', '']\n",
      "['TCR', '', '', 'P01850', '', 'protein', '', '', 'CK2', '', '', 'Q53GL0', '', 'protein', '', '', 'increases', '', '', '', '', '', '', '', '', 'PMC4418530', '', '']\n",
      "['MTORC2', '', '', 'Q6R328', '', 'Complex', '', '', 'MTORC2', '', '', 'Q6R327', '', 'Complex', '', '', 'increases', '', '', '', '', '', '', '', '', 'PMC4418530', '', '']\n",
      "['CD28', '', '', 'P10747', '', 'protein', '', '', 'MTORC2', '', '', 'Q6R328', '', 'Complex', '', '', 'increases', '', '', '', '', '', '', '', '', 'PMC4418530', '', '']\n",
      "['IL2_EX', '', '', 'P60568', '', 'protein', '', '', 'MTORC2', '', '', 'Q6R329', '', 'Complex', '', '', 'increases', '', '', '', '', '', '', '', '', 'PMC4418530', '', '']\n",
      "['IL2_R', '', '', 'P01589', '', 'protein', '', '', 'MTORC2', '', '', 'Q6R330', '', 'Complex', '', '', 'increases', '', '', '', '', '', '', '', '', 'PMC4418530', '', '']\n",
      "['PI3K', '', '', 'P42336', '', 'protein', '', '', 'PIP3', '', '', 'HMDB10147', '', 'protein', '', '', 'increases', '', '', '', '', '', '', '', '', 'PMC4418530', '', '']\n",
      "Paper_ID_unique 12\n",
      "Mean_interactions_per_paper 9.75\n"
     ]
    }
   ],
   "source": [
    "model_dict, regulators = get_model(baseline)\n",
    "weightMethod = 'FC'\n",
    "G = create_eclg(reading, model_dict) "
   ]
  },
  {
   "cell_type": "code",
   "execution_count": 33,
   "metadata": {},
   "outputs": [
    {
     "name": "stdout",
     "output_type": "stream",
     "text": [
      "['AKT->CD4_ext->-', 'AKT->CTRL_ext->-', 'TGFBETA->AKT->+', 'FOXP3->Ctla4_ext->+', 'FOXP3->Gpr83_ext->+', 'PTEN->CD8_ext->+', 'PTEN->HSC_ext->+', 'CHK1_ext->AKT->+', 'Foxo_ext->Foxo3a_ext->-', 'IQGAP1_ext->MEK2->-', 'MEK1_ext->AKT->-', 'AKT->MEK1_ext->-', 'AKT->MAGI1_ext->-', 'ERK->S5B_ext->+', 'MEK2->PTEN->+', 'TCR->CD4_ext->-', 'Itk_ext->CD4_ext->-', 'AKT->Itk_ext->-', 'FOXP3->Itk_ext->+', 'Itk_ext->CD4_ext->+', 'IL2->Itk_ext->+', 'TCR->Itk_ext->+', 'TCR->PTEN->-', 'PTEN->Itk_ext->-', 'Itk_ext->Th17_ext->+', 'CD4_ext->IL17A_ext->-', 'HIF1alpha_ext->IL17A_ext->-', 'TCR->CD25->+', 'Itk_ext->Myc_ext->-', 'AKT->TBK1_ext->+', 'MTOR->TBK1_ext->+', 'TCR->AKT->-', 'TBK1_ext->AKT->-', 'AKT->Foxo1_ext->-', 'TBK1_ext->CD4_ext->-', 'TBK1_ext->Foxo1_ext->+', 'TBK1_ext->AKT->+', 'TBK1_ext->CD4_ext->+', 'TCR->NEDD4_ext->+', 'Foxo1_ext->PTEN->+', 'MEK1_ext->PTEN->+', 'CK2_ext->PTEN->-', 'NEDD4_ext->PTEN->-', 'PIP3->AKT->+', 'MTORC2->AKT->+', 'TCR->MTORC2->+', 'AKT->MTORC2->-', 'TCR->PIP3->+', 'PTEN->PIP3->-', 'TCR->MEK1_ext->+', 'TCR->CK2_ext->+', 'MTORC2->MTORC2->+', 'CD28->MTORC2->+', 'IL2->MTORC2->+', 'CD25->MTORC2->+', 'PI3K->PIP3->+', 'FOXO3_ext->FOXO3_ext->+', 'PI3K->AKT->-', 'FASL_ext->FAS_ext->+', 'Bcl2l11_ext->CD4_ext->+', 'SHIP_ext->PI3K->+', 'SHIP1_ext->AKT->-', 'BAM32_ext->PAK1_ext->+', 'MTOR->PAK1_ext->+', 'siPAK1_ext->PAK1_ext->-', 'MTOR->AKT->+', 'MTOR->Pak1_ext->-', 'PI3K->PAK1_ext->-', 'ERK->PAK1_ext->+', 'BIM_ext->PAK1_ext->+', 'PI3K->AKT->+', 'PI3K->PTEN->-', 'AKT->FoxO3_ext->-', 'PDK1->AKT->+', 'CTLA4_ext->AKT->-', 'PD1_ext->AKT->-', 'IFNgamma_ext->AKT->+', 'TIL_ext->AKT->-', 'PDL1_ext->gp120_ext->+', 'PDL1_ext->Treg_ext->-', 'PDL1_ext->CD8_ext->-', 'PTEN->AKT->+', 'RAS->PTEN->-', 'P53_ext->PTEN->-', 'PTEN->AKT->-', 'PI3K->PTEN->+', 'CK2_ext->CD4_ext->+', 'SP_ext->CD69_ext->+', 'CK2_ext->CDC37_ext->+', 'CK2_ext->AKT->+', 'ERK->CK2_ext->+', 'Bcl2_ext->CD3_ext->+', 'CD5_ext->CK2_ext->+', 'CD5_ext->P38_ext->+', 'P38_ext->CD5_ext->+']\n"
     ]
    }
   ],
   "source": [
    "print(G.nodes())"
   ]
  },
  {
   "cell_type": "code",
   "execution_count": 34,
   "metadata": {},
   "outputs": [],
   "source": [
    "os.mkdir(out_dir)"
   ]
  },
  {
   "cell_type": "code",
   "execution_count": 35,
   "metadata": {},
   "outputs": [
    {
     "name": "stdout",
     "output_type": "stream",
     "text": [
      "Frequency of most frequent node before: 31\n",
      "Total number of nodes before removing less frequent nodes:\n",
      "95\n",
      "Total number of edges before removing less frequent nodes:\n",
      "512\n",
      "hist before removing less frequent nodes\n",
      "[0, 0, 3, 5, 9, 6, 0, 5, 18, 2, 0, 0, 0, 0, 28, 0, 0, 15, 1, 0, 1, 0, 0, 0, 1, 0, 0, 0, 0, 0, 0, 1]\n",
      "node length after removing less frequent nodes\n",
      "72\n",
      "edge length after removing less frequent nodes\n",
      "465\n",
      "Frequency of most frequent node after: 31\n",
      "hist after removing less frequent nodes\n",
      "[0, 0, 0, 0, 0, 0, 0, 5, 20, 0, 0, 0, 0, 0, 29, 0, 0, 15, 0, 1, 0, 0, 0, 0, 1, 0, 0, 0, 0, 0, 0, 1]\n"
     ]
    }
   ],
   "source": [
    "G = node_weighting(G, FC_TH, out_dir)"
   ]
  },
  {
   "cell_type": "code",
   "execution_count": 36,
   "metadata": {},
   "outputs": [],
   "source": [
    "data = [[0, 0, 3, 5, 9, 6, 0, 5, 18, 2, 0, 0, 0, 0, 28, 0, 0, 15, 1, 0, 1, 0, 0, 0, 1, 0, 0, 0, 0, 0, 0, 1],\n",
    "[0, 0, 0, 0, 0, 0, 0, 5, 20, 0, 0, 0, 0, 0, 29, 0, 0, 15, 0, 1, 0, 0, 0, 0, 1, 0, 0, 0, 0, 0, 0, 1]]"
   ]
  },
  {
   "cell_type": "code",
   "execution_count": 37,
   "metadata": {},
   "outputs": [
    {
     "name": "stdout",
     "output_type": "stream",
     "text": [
      "32\n"
     ]
    }
   ],
   "source": [
    "print(len(data[1]))"
   ]
  },
  {
   "cell_type": "code",
   "execution_count": 38,
   "metadata": {},
   "outputs": [
    {
     "data": {
      "image/png": "[encoded data removed]",
      "text/plain": [
       "<Figure size 432x288 with 1 Axes>"
      ]
     },
     "metadata": {
      "needs_background": "light"
     },
     "output_type": "display_data"
    }
   ],
   "source": [
    "X = np.arange(32)\n",
    "fig = plt.figure()\n",
    "ax = fig.add_axes([0,0,1,1])\n",
    "ax.bar(X  , data[0], color = 'b', width = 1)\n",
    "ax.bar(X +1, data[1], color = 'g', width = 1)\n",
    "ax.legend(labels=['Before', 'After'])\n",
    "plt.show()"
   ]
  },
  {
   "cell_type": "code",
   "execution_count": 39,
   "metadata": {},
   "outputs": [
    {
     "name": "stderr",
     "output_type": "stream",
     "text": [
      "*c* argument looks like a single numeric RGB or RGBA sequence, which should be avoided as value-mapping will have precedence in case its length matches with *x* & *y*.  Please use the *color* keyword-argument or provide a 2D array with a single row if you intend to specify the same RGB or RGBA value for all points.\n",
      "*c* argument looks like a single numeric RGB or RGBA sequence, which should be avoided as value-mapping will have precedence in case its length matches with *x* & *y*.  Please use the *color* keyword-argument or provide a 2D array with a single row if you intend to specify the same RGB or RGBA value for all points.\n",
      "*c* argument looks like a single numeric RGB or RGBA sequence, which should be avoided as value-mapping will have precedence in case its length matches with *x* & *y*.  Please use the *color* keyword-argument or provide a 2D array with a single row if you intend to specify the same RGB or RGBA value for all points.\n",
      "*c* argument looks like a single numeric RGB or RGBA sequence, which should be avoided as value-mapping will have precedence in case its length matches with *x* & *y*.  Please use the *color* keyword-argument or provide a 2D array with a single row if you intend to specify the same RGB or RGBA value for all points.\n",
      "*c* argument looks like a single numeric RGB or RGBA sequence, which should be avoided as value-mapping will have precedence in case its length matches with *x* & *y*.  Please use the *color* keyword-argument or provide a 2D array with a single row if you intend to specify the same RGB or RGBA value for all points.\n",
      "*c* argument looks like a single numeric RGB or RGBA sequence, which should be avoided as value-mapping will have precedence in case its length matches with *x* & *y*.  Please use the *color* keyword-argument or provide a 2D array with a single row if you intend to specify the same RGB or RGBA value for all points.\n",
      "*c* argument looks like a single numeric RGB or RGBA sequence, which should be avoided as value-mapping will have precedence in case its length matches with *x* & *y*.  Please use the *color* keyword-argument or provide a 2D array with a single row if you intend to specify the same RGB or RGBA value for all points.\n",
      "*c* argument looks like a single numeric RGB or RGBA sequence, which should be avoided as value-mapping will have precedence in case its length matches with *x* & *y*.  Please use the *color* keyword-argument or provide a 2D array with a single row if you intend to specify the same RGB or RGBA value for all points.\n",
      "*c* argument looks like a single numeric RGB or RGBA sequence, which should be avoided as value-mapping will have precedence in case its length matches with *x* & *y*.  Please use the *color* keyword-argument or provide a 2D array with a single row if you intend to specify the same RGB or RGBA value for all points.\n",
      "*c* argument looks like a single numeric RGB or RGBA sequence, which should be avoided as value-mapping will have precedence in case its length matches with *x* & *y*.  Please use the *color* keyword-argument or provide a 2D array with a single row if you intend to specify the same RGB or RGBA value for all points.\n",
      "*c* argument looks like a single numeric RGB or RGBA sequence, which should be avoided as value-mapping will have precedence in case its length matches with *x* & *y*.  Please use the *color* keyword-argument or provide a 2D array with a single row if you intend to specify the same RGB or RGBA value for all points.\n",
      "*c* argument looks like a single numeric RGB or RGBA sequence, which should be avoided as value-mapping will have precedence in case its length matches with *x* & *y*.  Please use the *color* keyword-argument or provide a 2D array with a single row if you intend to specify the same RGB or RGBA value for all points.\n"
     ]
    },
    {
     "name": "stdout",
     "output_type": "stream",
     "text": [
      "Community of  P38_ext->CD5_ext->+->2 (ID  0 ) -  9  Interactions:\n",
      "['CK2_ext->CD4_ext->+->2', 'SP_ext->CD69_ext->+->2', 'CK2_ext->CDC37_ext->+->2', 'CK2_ext->AKT->+->2', 'ERK->CK2_ext->+->2', 'Bcl2_ext->CD3_ext->+->2', 'CD5_ext->CK2_ext->+->2', 'CD5_ext->P38_ext->+->2', 'P38_ext->CD5_ext->+->2'] \n",
      "\n",
      "Community of  siPAK1_ext->PAK1_ext->-->1 (ID  1 ) -  14  Interactions:\n",
      "['FOXO3_ext->FOXO3_ext->+->1', 'PI3K->AKT->-->1', 'FASL_ext->FAS_ext->+->1', 'Bcl2l11_ext->CD4_ext->+->1', 'SHIP_ext->PI3K->+->1', 'SHIP1_ext->AKT->-->1', 'BAM32_ext->PAK1_ext->+->1', 'MTOR->PAK1_ext->+->1', 'siPAK1_ext->PAK1_ext->-->1', 'MTOR->AKT->+->1', 'MTOR->Pak1_ext->-->1', 'PI3K->PAK1_ext->-->1', 'ERK->PAK1_ext->+->1', 'BIM_ext->PAK1_ext->+->1'] \n",
      "\n",
      "Community of  TBK1_ext->CD4_ext->+->2 (ID  2 ) -  9  Interactions:\n",
      "['AKT->TBK1_ext->+->2', 'MTOR->TBK1_ext->+->2', 'TCR->AKT->-->2', 'TBK1_ext->AKT->-->2', 'AKT->Foxo1_ext->-->2', 'TBK1_ext->CD4_ext->-->2', 'TBK1_ext->Foxo1_ext->+->2', 'TBK1_ext->AKT->+->2', 'TBK1_ext->CD4_ext->+->2'] \n",
      "\n",
      "Community of  PTEN->AKT->+->2 (ID  3 ) -  7  Interactions:\n",
      "['PI3K->AKT->+->2', 'PI3K->PTEN->-->2', 'PTEN->AKT->+->2', 'RAS->PTEN->-->2', 'P53_ext->PTEN->-->2', 'PTEN->AKT->-->2', 'PI3K->PTEN->+->2'] \n",
      "\n",
      "Community of  TCR->MEK1_ext->+->1 (ID  4 ) -  18  Interactions:\n",
      "['TCR->NEDD4_ext->+->1', 'Foxo1_ext->PTEN->+->1', 'MEK1_ext->PTEN->+->1', 'CK2_ext->PTEN->-->1', 'NEDD4_ext->PTEN->-->0', 'PIP3->AKT->+->1', 'MTORC2->AKT->+->1', 'TCR->MTORC2->+->1', 'AKT->MTORC2->-->1', 'TCR->PIP3->+->1', 'PTEN->PIP3->-->1', 'TCR->MEK1_ext->+->1', 'TCR->CK2_ext->+->1', 'MTORC2->MTORC2->+->1', 'CD28->MTORC2->+->1', 'IL2->MTORC2->+->1', 'CD25->MTORC2->+->1', 'PI3K->PIP3->+->0'] \n",
      "\n",
      "Community of  Itk_ext->Myc_ext->-->1 (ID  5 ) -  15  Interactions:\n",
      "['AKT->CD4_ext->-->1', 'TCR->CD4_ext->-->1', 'Itk_ext->CD4_ext->-->1', 'AKT->Itk_ext->-->1', 'FOXP3->Itk_ext->+->1', 'Itk_ext->CD4_ext->+->1', 'IL2->Itk_ext->+->1', 'TCR->Itk_ext->+->1', 'TCR->PTEN->-->1', 'PTEN->Itk_ext->-->1', 'Itk_ext->Th17_ext->+->1', 'CD4_ext->IL17A_ext->-->1', 'HIF1alpha_ext->IL17A_ext->-->1', 'TCR->CD25->+->1', 'Itk_ext->Myc_ext->-->1'] \n",
      "\n",
      "hihi\n"
     ]
    },
    {
     "data": {
      "image/png": "[encoded data removed]",
      "text/plain": [
       "<Figure size 936x360 with 1 Axes>"
      ]
     },
     "metadata": {},
     "output_type": "display_data"
    }
   ],
   "source": [
    "weightMethod = 'FC'\n",
    "G = edge_weighting(G, out_dir, weightMethod)\n",
    "clustering(G, out_dir) "
   ]
  },
  {
   "cell_type": "code",
   "execution_count": null,
   "metadata": {},
   "outputs": [],
   "source": []
  },
  {
   "cell_type": "code",
   "execution_count": 40,
   "metadata": {},
   "outputs": [
    {
     "name": "stdout",
     "output_type": "stream",
     "text": [
      "[('AKT->CD4_ext->-->1', 'TCR->CD4_ext->-->1'), ('AKT->CD4_ext->-->1', 'Itk_ext->CD4_ext->-->1'), ('AKT->CD4_ext->-->1', 'AKT->Itk_ext->-->1'), ('AKT->CD4_ext->-->1', 'FOXP3->Itk_ext->+->1'), ('AKT->CD4_ext->-->1', 'Itk_ext->CD4_ext->+->1'), ('AKT->CD4_ext->-->1', 'IL2->Itk_ext->+->1'), ('AKT->CD4_ext->-->1', 'TCR->Itk_ext->+->1'), ('AKT->CD4_ext->-->1', 'TCR->PTEN->-->1'), ('AKT->CD4_ext->-->1', 'PTEN->Itk_ext->-->1'), ('AKT->CD4_ext->-->1', 'Itk_ext->Th17_ext->+->1'), ('AKT->CD4_ext->-->1', 'CD4_ext->IL17A_ext->-->1'), ('AKT->CD4_ext->-->1', 'HIF1alpha_ext->IL17A_ext->-->1'), ('AKT->CD4_ext->-->1', 'TCR->CD25->+->1'), ('AKT->CD4_ext->-->1', 'Itk_ext->Myc_ext->-->1'), ('TCR->CD4_ext->-->1', 'Itk_ext->CD4_ext->-->1'), ('TCR->CD4_ext->-->1', 'AKT->Itk_ext->-->1'), ('TCR->CD4_ext->-->1', 'FOXP3->Itk_ext->+->1'), ('TCR->CD4_ext->-->1', 'Itk_ext->CD4_ext->+->1'), ('TCR->CD4_ext->-->1', 'IL2->Itk_ext->+->1'), ('TCR->CD4_ext->-->1', 'TCR->Itk_ext->+->1'), ('TCR->CD4_ext->-->1', 'TCR->PTEN->-->1'), ('TCR->CD4_ext->-->1', 'PTEN->Itk_ext->-->1'), ('TCR->CD4_ext->-->1', 'Itk_ext->Th17_ext->+->1'), ('TCR->CD4_ext->-->1', 'CD4_ext->IL17A_ext->-->1'), ('TCR->CD4_ext->-->1', 'HIF1alpha_ext->IL17A_ext->-->1'), ('TCR->CD4_ext->-->1', 'TCR->CD25->+->1'), ('TCR->CD4_ext->-->1', 'Itk_ext->Myc_ext->-->1'), ('Itk_ext->CD4_ext->-->1', 'AKT->Itk_ext->-->1'), ('Itk_ext->CD4_ext->-->1', 'FOXP3->Itk_ext->+->1'), ('Itk_ext->CD4_ext->-->1', 'Itk_ext->CD4_ext->+->1'), ('Itk_ext->CD4_ext->-->1', 'IL2->Itk_ext->+->1'), ('Itk_ext->CD4_ext->-->1', 'TCR->Itk_ext->+->1'), ('Itk_ext->CD4_ext->-->1', 'TCR->PTEN->-->1'), ('Itk_ext->CD4_ext->-->1', 'PTEN->Itk_ext->-->1'), ('Itk_ext->CD4_ext->-->1', 'Itk_ext->Th17_ext->+->1'), ('Itk_ext->CD4_ext->-->1', 'CD4_ext->IL17A_ext->-->1'), ('Itk_ext->CD4_ext->-->1', 'HIF1alpha_ext->IL17A_ext->-->1'), ('Itk_ext->CD4_ext->-->1', 'TCR->CD25->+->1'), ('Itk_ext->CD4_ext->-->1', 'Itk_ext->Myc_ext->-->1'), ('AKT->Itk_ext->-->1', 'FOXP3->Itk_ext->+->1'), ('AKT->Itk_ext->-->1', 'Itk_ext->CD4_ext->+->1'), ('AKT->Itk_ext->-->1', 'IL2->Itk_ext->+->1'), ('AKT->Itk_ext->-->1', 'TCR->Itk_ext->+->1'), ('AKT->Itk_ext->-->1', 'TCR->PTEN->-->1'), ('AKT->Itk_ext->-->1', 'PTEN->Itk_ext->-->1'), ('AKT->Itk_ext->-->1', 'Itk_ext->Th17_ext->+->1'), ('AKT->Itk_ext->-->1', 'CD4_ext->IL17A_ext->-->1'), ('AKT->Itk_ext->-->1', 'HIF1alpha_ext->IL17A_ext->-->1'), ('AKT->Itk_ext->-->1', 'TCR->CD25->+->1'), ('AKT->Itk_ext->-->1', 'Itk_ext->Myc_ext->-->1'), ('FOXP3->Itk_ext->+->1', 'Itk_ext->CD4_ext->+->1'), ('FOXP3->Itk_ext->+->1', 'IL2->Itk_ext->+->1'), ('FOXP3->Itk_ext->+->1', 'TCR->Itk_ext->+->1'), ('FOXP3->Itk_ext->+->1', 'TCR->PTEN->-->1'), ('FOXP3->Itk_ext->+->1', 'PTEN->Itk_ext->-->1'), ('FOXP3->Itk_ext->+->1', 'Itk_ext->Th17_ext->+->1'), ('FOXP3->Itk_ext->+->1', 'CD4_ext->IL17A_ext->-->1'), ('FOXP3->Itk_ext->+->1', 'HIF1alpha_ext->IL17A_ext->-->1'), ('FOXP3->Itk_ext->+->1', 'TCR->CD25->+->1'), ('FOXP3->Itk_ext->+->1', 'Itk_ext->Myc_ext->-->1'), ('Itk_ext->CD4_ext->+->1', 'IL2->Itk_ext->+->1'), ('Itk_ext->CD4_ext->+->1', 'TCR->Itk_ext->+->1'), ('Itk_ext->CD4_ext->+->1', 'TCR->PTEN->-->1'), ('Itk_ext->CD4_ext->+->1', 'PTEN->Itk_ext->-->1'), ('Itk_ext->CD4_ext->+->1', 'Itk_ext->Th17_ext->+->1'), ('Itk_ext->CD4_ext->+->1', 'CD4_ext->IL17A_ext->-->1'), ('Itk_ext->CD4_ext->+->1', 'HIF1alpha_ext->IL17A_ext->-->1'), ('Itk_ext->CD4_ext->+->1', 'TCR->CD25->+->1'), ('Itk_ext->CD4_ext->+->1', 'Itk_ext->Myc_ext->-->1'), ('IL2->Itk_ext->+->1', 'TCR->Itk_ext->+->1'), ('IL2->Itk_ext->+->1', 'TCR->PTEN->-->1'), ('IL2->Itk_ext->+->1', 'PTEN->Itk_ext->-->1'), ('IL2->Itk_ext->+->1', 'Itk_ext->Th17_ext->+->1'), ('IL2->Itk_ext->+->1', 'CD4_ext->IL17A_ext->-->1'), ('IL2->Itk_ext->+->1', 'HIF1alpha_ext->IL17A_ext->-->1'), ('IL2->Itk_ext->+->1', 'TCR->CD25->+->1'), ('IL2->Itk_ext->+->1', 'Itk_ext->Myc_ext->-->1'), ('TCR->Itk_ext->+->1', 'TCR->PTEN->-->1'), ('TCR->Itk_ext->+->1', 'PTEN->Itk_ext->-->1'), ('TCR->Itk_ext->+->1', 'Itk_ext->Th17_ext->+->1'), ('TCR->Itk_ext->+->1', 'CD4_ext->IL17A_ext->-->1'), ('TCR->Itk_ext->+->1', 'HIF1alpha_ext->IL17A_ext->-->1'), ('TCR->Itk_ext->+->1', 'TCR->CD25->+->1'), ('TCR->Itk_ext->+->1', 'Itk_ext->Myc_ext->-->1'), ('TCR->PTEN->-->1', 'PTEN->Itk_ext->-->1'), ('TCR->PTEN->-->1', 'Itk_ext->Th17_ext->+->1'), ('TCR->PTEN->-->1', 'CD4_ext->IL17A_ext->-->1'), ('TCR->PTEN->-->1', 'HIF1alpha_ext->IL17A_ext->-->1'), ('TCR->PTEN->-->1', 'TCR->CD25->+->1'), ('TCR->PTEN->-->1', 'Itk_ext->Myc_ext->-->1'), ('PTEN->Itk_ext->-->1', 'Itk_ext->Th17_ext->+->1'), ('PTEN->Itk_ext->-->1', 'CD4_ext->IL17A_ext->-->1'), ('PTEN->Itk_ext->-->1', 'HIF1alpha_ext->IL17A_ext->-->1'), ('PTEN->Itk_ext->-->1', 'TCR->CD25->+->1'), ('PTEN->Itk_ext->-->1', 'Itk_ext->Myc_ext->-->1'), ('Itk_ext->Th17_ext->+->1', 'CD4_ext->IL17A_ext->-->1'), ('Itk_ext->Th17_ext->+->1', 'HIF1alpha_ext->IL17A_ext->-->1'), ('Itk_ext->Th17_ext->+->1', 'TCR->CD25->+->1'), ('Itk_ext->Th17_ext->+->1', 'Itk_ext->Myc_ext->-->1'), ('CD4_ext->IL17A_ext->-->1', 'HIF1alpha_ext->IL17A_ext->-->1'), ('CD4_ext->IL17A_ext->-->1', 'TCR->CD25->+->1'), ('CD4_ext->IL17A_ext->-->1', 'Itk_ext->Myc_ext->-->1'), ('HIF1alpha_ext->IL17A_ext->-->1', 'TCR->CD25->+->1'), ('HIF1alpha_ext->IL17A_ext->-->1', 'Itk_ext->Myc_ext->-->1'), ('TCR->CD25->+->1', 'Itk_ext->Myc_ext->-->1'), ('AKT->TBK1_ext->+->2', 'MTOR->TBK1_ext->+->2'), ('AKT->TBK1_ext->+->2', 'TCR->AKT->-->2'), ('AKT->TBK1_ext->+->2', 'TBK1_ext->AKT->-->2'), ('AKT->TBK1_ext->+->2', 'AKT->Foxo1_ext->-->2'), ('AKT->TBK1_ext->+->2', 'TBK1_ext->CD4_ext->-->2'), ('AKT->TBK1_ext->+->2', 'TBK1_ext->Foxo1_ext->+->2'), ('AKT->TBK1_ext->+->2', 'TBK1_ext->AKT->+->2'), ('AKT->TBK1_ext->+->2', 'TBK1_ext->CD4_ext->+->2'), ('MTOR->TBK1_ext->+->2', 'TCR->AKT->-->2'), ('MTOR->TBK1_ext->+->2', 'TBK1_ext->AKT->-->2'), ('MTOR->TBK1_ext->+->2', 'AKT->Foxo1_ext->-->2'), ('MTOR->TBK1_ext->+->2', 'TBK1_ext->CD4_ext->-->2'), ('MTOR->TBK1_ext->+->2', 'TBK1_ext->Foxo1_ext->+->2'), ('MTOR->TBK1_ext->+->2', 'TBK1_ext->AKT->+->2'), ('MTOR->TBK1_ext->+->2', 'TBK1_ext->CD4_ext->+->2'), ('TCR->AKT->-->2', 'TBK1_ext->AKT->-->2'), ('TCR->AKT->-->2', 'AKT->Foxo1_ext->-->2'), ('TCR->AKT->-->2', 'TBK1_ext->CD4_ext->-->2'), ('TCR->AKT->-->2', 'TBK1_ext->Foxo1_ext->+->2'), ('TCR->AKT->-->2', 'TBK1_ext->AKT->+->2'), ('TCR->AKT->-->2', 'TBK1_ext->CD4_ext->+->2'), ('TBK1_ext->AKT->-->2', 'AKT->Foxo1_ext->-->2'), ('TBK1_ext->AKT->-->2', 'TBK1_ext->CD4_ext->-->2'), ('TBK1_ext->AKT->-->2', 'TBK1_ext->Foxo1_ext->+->2'), ('TBK1_ext->AKT->-->2', 'TBK1_ext->AKT->+->2'), ('TBK1_ext->AKT->-->2', 'TBK1_ext->CD4_ext->+->2'), ('AKT->Foxo1_ext->-->2', 'TBK1_ext->CD4_ext->-->2'), ('AKT->Foxo1_ext->-->2', 'TBK1_ext->Foxo1_ext->+->2'), ('AKT->Foxo1_ext->-->2', 'TBK1_ext->AKT->+->2'), ('AKT->Foxo1_ext->-->2', 'TBK1_ext->CD4_ext->+->2'), ('TBK1_ext->CD4_ext->-->2', 'TBK1_ext->Foxo1_ext->+->2'), ('TBK1_ext->CD4_ext->-->2', 'TBK1_ext->AKT->+->2'), ('TBK1_ext->CD4_ext->-->2', 'TBK1_ext->CD4_ext->+->2'), ('TBK1_ext->Foxo1_ext->+->2', 'TBK1_ext->AKT->+->2'), ('TBK1_ext->Foxo1_ext->+->2', 'TBK1_ext->CD4_ext->+->2'), ('TBK1_ext->AKT->+->2', 'TBK1_ext->CD4_ext->+->2'), ('TCR->NEDD4_ext->+->1', 'Foxo1_ext->PTEN->+->1'), ('TCR->NEDD4_ext->+->1', 'MEK1_ext->PTEN->+->1'), ('TCR->NEDD4_ext->+->1', 'CK2_ext->PTEN->-->1'), ('TCR->NEDD4_ext->+->1', 'NEDD4_ext->PTEN->-->0'), ('TCR->NEDD4_ext->+->1', 'PIP3->AKT->+->1'), ('TCR->NEDD4_ext->+->1', 'MTORC2->AKT->+->1'), ('TCR->NEDD4_ext->+->1', 'TCR->MTORC2->+->1'), ('TCR->NEDD4_ext->+->1', 'AKT->MTORC2->-->1'), ('TCR->NEDD4_ext->+->1', 'TCR->PIP3->+->1'), ('TCR->NEDD4_ext->+->1', 'PTEN->PIP3->-->1'), ('TCR->NEDD4_ext->+->1', 'TCR->MEK1_ext->+->1'), ('TCR->NEDD4_ext->+->1', 'TCR->CK2_ext->+->1'), ('TCR->NEDD4_ext->+->1', 'MTORC2->MTORC2->+->1'), ('TCR->NEDD4_ext->+->1', 'CD28->MTORC2->+->1'), ('TCR->NEDD4_ext->+->1', 'IL2->MTORC2->+->1'), ('TCR->NEDD4_ext->+->1', 'CD25->MTORC2->+->1'), ('TCR->NEDD4_ext->+->1', 'PI3K->PIP3->+->0'), ('Foxo1_ext->PTEN->+->1', 'MEK1_ext->PTEN->+->1'), ('Foxo1_ext->PTEN->+->1', 'CK2_ext->PTEN->-->1'), ('Foxo1_ext->PTEN->+->1', 'NEDD4_ext->PTEN->-->0'), ('Foxo1_ext->PTEN->+->1', 'PIP3->AKT->+->1'), ('Foxo1_ext->PTEN->+->1', 'MTORC2->AKT->+->1'), ('Foxo1_ext->PTEN->+->1', 'TCR->MTORC2->+->1'), ('Foxo1_ext->PTEN->+->1', 'AKT->MTORC2->-->1'), ('Foxo1_ext->PTEN->+->1', 'TCR->PIP3->+->1'), ('Foxo1_ext->PTEN->+->1', 'PTEN->PIP3->-->1'), ('Foxo1_ext->PTEN->+->1', 'TCR->MEK1_ext->+->1'), ('Foxo1_ext->PTEN->+->1', 'TCR->CK2_ext->+->1'), ('Foxo1_ext->PTEN->+->1', 'MTORC2->MTORC2->+->1'), ('Foxo1_ext->PTEN->+->1', 'CD28->MTORC2->+->1'), ('Foxo1_ext->PTEN->+->1', 'IL2->MTORC2->+->1'), ('Foxo1_ext->PTEN->+->1', 'CD25->MTORC2->+->1'), ('Foxo1_ext->PTEN->+->1', 'PI3K->PIP3->+->0'), ('MEK1_ext->PTEN->+->1', 'CK2_ext->PTEN->-->1'), ('MEK1_ext->PTEN->+->1', 'NEDD4_ext->PTEN->-->0'), ('MEK1_ext->PTEN->+->1', 'PIP3->AKT->+->1'), ('MEK1_ext->PTEN->+->1', 'MTORC2->AKT->+->1'), ('MEK1_ext->PTEN->+->1', 'TCR->MTORC2->+->1'), ('MEK1_ext->PTEN->+->1', 'AKT->MTORC2->-->1'), ('MEK1_ext->PTEN->+->1', 'TCR->PIP3->+->1'), ('MEK1_ext->PTEN->+->1', 'PTEN->PIP3->-->1'), ('MEK1_ext->PTEN->+->1', 'TCR->MEK1_ext->+->1'), ('MEK1_ext->PTEN->+->1', 'TCR->CK2_ext->+->1'), ('MEK1_ext->PTEN->+->1', 'MTORC2->MTORC2->+->1'), ('MEK1_ext->PTEN->+->1', 'CD28->MTORC2->+->1'), ('MEK1_ext->PTEN->+->1', 'IL2->MTORC2->+->1'), ('MEK1_ext->PTEN->+->1', 'CD25->MTORC2->+->1'), ('MEK1_ext->PTEN->+->1', 'PI3K->PIP3->+->0'), ('CK2_ext->PTEN->-->1', 'NEDD4_ext->PTEN->-->0'), ('CK2_ext->PTEN->-->1', 'PIP3->AKT->+->1'), ('CK2_ext->PTEN->-->1', 'MTORC2->AKT->+->1'), ('CK2_ext->PTEN->-->1', 'TCR->MTORC2->+->1'), ('CK2_ext->PTEN->-->1', 'AKT->MTORC2->-->1'), ('CK2_ext->PTEN->-->1', 'TCR->PIP3->+->1'), ('CK2_ext->PTEN->-->1', 'PTEN->PIP3->-->1'), ('CK2_ext->PTEN->-->1', 'TCR->MEK1_ext->+->1'), ('CK2_ext->PTEN->-->1', 'TCR->CK2_ext->+->1'), ('CK2_ext->PTEN->-->1', 'MTORC2->MTORC2->+->1'), ('CK2_ext->PTEN->-->1', 'CD28->MTORC2->+->1'), ('CK2_ext->PTEN->-->1', 'IL2->MTORC2->+->1'), ('CK2_ext->PTEN->-->1', 'CD25->MTORC2->+->1'), ('CK2_ext->PTEN->-->1', 'PI3K->PIP3->+->0'), ('CK2_ext->PTEN->-->1', 'PI3K->AKT->+->2'), ('CK2_ext->PTEN->-->1', 'PI3K->PTEN->-->2'), ('NEDD4_ext->PTEN->-->0', 'PIP3->AKT->+->1'), ('NEDD4_ext->PTEN->-->0', 'MTORC2->AKT->+->1'), ('NEDD4_ext->PTEN->-->0', 'TCR->MTORC2->+->1'), ('NEDD4_ext->PTEN->-->0', 'AKT->MTORC2->-->1'), ('NEDD4_ext->PTEN->-->0', 'TCR->PIP3->+->1'), ('NEDD4_ext->PTEN->-->0', 'PTEN->PIP3->-->1'), ('NEDD4_ext->PTEN->-->0', 'TCR->MEK1_ext->+->1'), ('NEDD4_ext->PTEN->-->0', 'TCR->CK2_ext->+->1'), ('NEDD4_ext->PTEN->-->0', 'MTORC2->MTORC2->+->1'), ('NEDD4_ext->PTEN->-->0', 'CD28->MTORC2->+->1'), ('NEDD4_ext->PTEN->-->0', 'IL2->MTORC2->+->1'), ('NEDD4_ext->PTEN->-->0', 'CD25->MTORC2->+->1'), ('NEDD4_ext->PTEN->-->0', 'PI3K->PIP3->+->0'), ('NEDD4_ext->PTEN->-->0', 'PTEN->AKT->+->2'), ('NEDD4_ext->PTEN->-->0', 'RAS->PTEN->-->2'), ('NEDD4_ext->PTEN->-->0', 'P53_ext->PTEN->-->2'), ('NEDD4_ext->PTEN->-->0', 'PI3K->AKT->+->2'), ('NEDD4_ext->PTEN->-->0', 'PTEN->AKT->-->2'), ('NEDD4_ext->PTEN->-->0', 'PI3K->PTEN->+->2'), ('NEDD4_ext->PTEN->-->0', 'PI3K->PTEN->-->2'), ('PIP3->AKT->+->1', 'MTORC2->AKT->+->1'), ('PIP3->AKT->+->1', 'TCR->MTORC2->+->1'), ('PIP3->AKT->+->1', 'AKT->MTORC2->-->1'), ('PIP3->AKT->+->1', 'TCR->PIP3->+->1'), ('PIP3->AKT->+->1', 'PTEN->PIP3->-->1'), ('PIP3->AKT->+->1', 'TCR->MEK1_ext->+->1'), ('PIP3->AKT->+->1', 'TCR->CK2_ext->+->1'), ('PIP3->AKT->+->1', 'MTORC2->MTORC2->+->1'), ('PIP3->AKT->+->1', 'CD28->MTORC2->+->1'), ('PIP3->AKT->+->1', 'IL2->MTORC2->+->1'), ('PIP3->AKT->+->1', 'CD25->MTORC2->+->1'), ('PIP3->AKT->+->1', 'PI3K->PIP3->+->0'), ('MTORC2->AKT->+->1', 'TCR->MTORC2->+->1'), ('MTORC2->AKT->+->1', 'AKT->MTORC2->-->1'), ('MTORC2->AKT->+->1', 'TCR->PIP3->+->1'), ('MTORC2->AKT->+->1', 'PTEN->PIP3->-->1'), ('MTORC2->AKT->+->1', 'TCR->MEK1_ext->+->1'), ('MTORC2->AKT->+->1', 'TCR->CK2_ext->+->1'), ('MTORC2->AKT->+->1', 'MTORC2->MTORC2->+->1'), ('MTORC2->AKT->+->1', 'CD28->MTORC2->+->1'), ('MTORC2->AKT->+->1', 'IL2->MTORC2->+->1'), ('MTORC2->AKT->+->1', 'CD25->MTORC2->+->1'), ('MTORC2->AKT->+->1', 'PI3K->PIP3->+->0'), ('TCR->MTORC2->+->1', 'AKT->MTORC2->-->1'), ('TCR->MTORC2->+->1', 'TCR->PIP3->+->1'), ('TCR->MTORC2->+->1', 'PTEN->PIP3->-->1'), ('TCR->MTORC2->+->1', 'TCR->MEK1_ext->+->1'), ('TCR->MTORC2->+->1', 'TCR->CK2_ext->+->1'), ('TCR->MTORC2->+->1', 'MTORC2->MTORC2->+->1'), ('TCR->MTORC2->+->1', 'CD28->MTORC2->+->1'), ('TCR->MTORC2->+->1', 'IL2->MTORC2->+->1'), ('TCR->MTORC2->+->1', 'CD25->MTORC2->+->1'), ('TCR->MTORC2->+->1', 'PI3K->PIP3->+->0'), ('AKT->MTORC2->-->1', 'TCR->PIP3->+->1'), ('AKT->MTORC2->-->1', 'PTEN->PIP3->-->1'), ('AKT->MTORC2->-->1', 'TCR->MEK1_ext->+->1'), ('AKT->MTORC2->-->1', 'TCR->CK2_ext->+->1'), ('AKT->MTORC2->-->1', 'MTORC2->MTORC2->+->1'), ('AKT->MTORC2->-->1', 'CD28->MTORC2->+->1'), ('AKT->MTORC2->-->1', 'IL2->MTORC2->+->1'), ('AKT->MTORC2->-->1', 'CD25->MTORC2->+->1'), ('AKT->MTORC2->-->1', 'PI3K->PIP3->+->0'), ('TCR->PIP3->+->1', 'PTEN->PIP3->-->1'), ('TCR->PIP3->+->1', 'TCR->MEK1_ext->+->1'), ('TCR->PIP3->+->1', 'TCR->CK2_ext->+->1'), ('TCR->PIP3->+->1', 'MTORC2->MTORC2->+->1'), ('TCR->PIP3->+->1', 'CD28->MTORC2->+->1'), ('TCR->PIP3->+->1', 'IL2->MTORC2->+->1'), ('TCR->PIP3->+->1', 'CD25->MTORC2->+->1'), ('TCR->PIP3->+->1', 'PI3K->PIP3->+->0'), ('PTEN->PIP3->-->1', 'TCR->MEK1_ext->+->1'), ('PTEN->PIP3->-->1', 'TCR->CK2_ext->+->1'), ('PTEN->PIP3->-->1', 'MTORC2->MTORC2->+->1'), ('PTEN->PIP3->-->1', 'CD28->MTORC2->+->1'), ('PTEN->PIP3->-->1', 'IL2->MTORC2->+->1'), ('PTEN->PIP3->-->1', 'CD25->MTORC2->+->1'), ('PTEN->PIP3->-->1', 'PI3K->PIP3->+->0'), ('TCR->MEK1_ext->+->1', 'TCR->CK2_ext->+->1'), ('TCR->MEK1_ext->+->1', 'MTORC2->MTORC2->+->1'), ('TCR->MEK1_ext->+->1', 'CD28->MTORC2->+->1'), ('TCR->MEK1_ext->+->1', 'IL2->MTORC2->+->1'), ('TCR->MEK1_ext->+->1', 'CD25->MTORC2->+->1'), ('TCR->MEK1_ext->+->1', 'PI3K->PIP3->+->0'), ('TCR->CK2_ext->+->1', 'MTORC2->MTORC2->+->1'), ('TCR->CK2_ext->+->1', 'CD28->MTORC2->+->1'), ('TCR->CK2_ext->+->1', 'IL2->MTORC2->+->1'), ('TCR->CK2_ext->+->1', 'CD25->MTORC2->+->1'), ('TCR->CK2_ext->+->1', 'PI3K->PIP3->+->0'), ('MTORC2->MTORC2->+->1', 'CD28->MTORC2->+->1'), ('MTORC2->MTORC2->+->1', 'IL2->MTORC2->+->1'), ('MTORC2->MTORC2->+->1', 'CD25->MTORC2->+->1'), ('MTORC2->MTORC2->+->1', 'PI3K->PIP3->+->0'), ('CD28->MTORC2->+->1', 'IL2->MTORC2->+->1'), ('CD28->MTORC2->+->1', 'CD25->MTORC2->+->1'), ('CD28->MTORC2->+->1', 'PI3K->PIP3->+->0'), ('IL2->MTORC2->+->1', 'CD25->MTORC2->+->1'), ('IL2->MTORC2->+->1', 'PI3K->PIP3->+->0'), ('CD25->MTORC2->+->1', 'PI3K->PIP3->+->0'), ('PI3K->PIP3->+->0', 'FOXO3_ext->FOXO3_ext->+->1'), ('PI3K->PIP3->+->0', 'PI3K->AKT->-->1'), ('PI3K->PIP3->+->0', 'FASL_ext->FAS_ext->+->1'), ('PI3K->PIP3->+->0', 'Bcl2l11_ext->CD4_ext->+->1'), ('PI3K->PIP3->+->0', 'SHIP_ext->PI3K->+->1'), ('PI3K->PIP3->+->0', 'SHIP1_ext->AKT->-->1'), ('PI3K->PIP3->+->0', 'BAM32_ext->PAK1_ext->+->1'), ('PI3K->PIP3->+->0', 'MTOR->PAK1_ext->+->1'), ('PI3K->PIP3->+->0', 'siPAK1_ext->PAK1_ext->-->1'), ('PI3K->PIP3->+->0', 'MTOR->AKT->+->1'), ('PI3K->PIP3->+->0', 'MTOR->Pak1_ext->-->1'), ('PI3K->PIP3->+->0', 'PI3K->PAK1_ext->-->1'), ('PI3K->PIP3->+->0', 'ERK->PAK1_ext->+->1'), ('PI3K->PIP3->+->0', 'BIM_ext->PAK1_ext->+->1'), ('FOXO3_ext->FOXO3_ext->+->1', 'PI3K->AKT->-->1'), ('FOXO3_ext->FOXO3_ext->+->1', 'FASL_ext->FAS_ext->+->1'), ('FOXO3_ext->FOXO3_ext->+->1', 'Bcl2l11_ext->CD4_ext->+->1'), ('FOXO3_ext->FOXO3_ext->+->1', 'SHIP_ext->PI3K->+->1'), ('FOXO3_ext->FOXO3_ext->+->1', 'SHIP1_ext->AKT->-->1'), ('FOXO3_ext->FOXO3_ext->+->1', 'BAM32_ext->PAK1_ext->+->1'), ('FOXO3_ext->FOXO3_ext->+->1', 'MTOR->PAK1_ext->+->1'), ('FOXO3_ext->FOXO3_ext->+->1', 'siPAK1_ext->PAK1_ext->-->1'), ('FOXO3_ext->FOXO3_ext->+->1', 'MTOR->AKT->+->1'), ('FOXO3_ext->FOXO3_ext->+->1', 'MTOR->Pak1_ext->-->1'), ('FOXO3_ext->FOXO3_ext->+->1', 'PI3K->PAK1_ext->-->1'), ('FOXO3_ext->FOXO3_ext->+->1', 'ERK->PAK1_ext->+->1'), ('FOXO3_ext->FOXO3_ext->+->1', 'BIM_ext->PAK1_ext->+->1'), ('PI3K->AKT->-->1', 'FASL_ext->FAS_ext->+->1'), ('PI3K->AKT->-->1', 'Bcl2l11_ext->CD4_ext->+->1'), ('PI3K->AKT->-->1', 'SHIP_ext->PI3K->+->1'), ('PI3K->AKT->-->1', 'SHIP1_ext->AKT->-->1'), ('PI3K->AKT->-->1', 'BAM32_ext->PAK1_ext->+->1'), ('PI3K->AKT->-->1', 'MTOR->PAK1_ext->+->1'), ('PI3K->AKT->-->1', 'siPAK1_ext->PAK1_ext->-->1'), ('PI3K->AKT->-->1', 'MTOR->AKT->+->1'), ('PI3K->AKT->-->1', 'MTOR->Pak1_ext->-->1'), ('PI3K->AKT->-->1', 'PI3K->PAK1_ext->-->1'), ('PI3K->AKT->-->1', 'ERK->PAK1_ext->+->1'), ('PI3K->AKT->-->1', 'BIM_ext->PAK1_ext->+->1'), ('FASL_ext->FAS_ext->+->1', 'Bcl2l11_ext->CD4_ext->+->1'), ('FASL_ext->FAS_ext->+->1', 'SHIP_ext->PI3K->+->1'), ('FASL_ext->FAS_ext->+->1', 'SHIP1_ext->AKT->-->1'), ('FASL_ext->FAS_ext->+->1', 'BAM32_ext->PAK1_ext->+->1'), ('FASL_ext->FAS_ext->+->1', 'MTOR->PAK1_ext->+->1'), ('FASL_ext->FAS_ext->+->1', 'siPAK1_ext->PAK1_ext->-->1'), ('FASL_ext->FAS_ext->+->1', 'MTOR->AKT->+->1'), ('FASL_ext->FAS_ext->+->1', 'MTOR->Pak1_ext->-->1'), ('FASL_ext->FAS_ext->+->1', 'PI3K->PAK1_ext->-->1'), ('FASL_ext->FAS_ext->+->1', 'ERK->PAK1_ext->+->1'), ('FASL_ext->FAS_ext->+->1', 'BIM_ext->PAK1_ext->+->1'), ('Bcl2l11_ext->CD4_ext->+->1', 'SHIP_ext->PI3K->+->1'), ('Bcl2l11_ext->CD4_ext->+->1', 'SHIP1_ext->AKT->-->1'), ('Bcl2l11_ext->CD4_ext->+->1', 'BAM32_ext->PAK1_ext->+->1'), ('Bcl2l11_ext->CD4_ext->+->1', 'MTOR->PAK1_ext->+->1'), ('Bcl2l11_ext->CD4_ext->+->1', 'siPAK1_ext->PAK1_ext->-->1'), ('Bcl2l11_ext->CD4_ext->+->1', 'MTOR->AKT->+->1'), ('Bcl2l11_ext->CD4_ext->+->1', 'MTOR->Pak1_ext->-->1'), ('Bcl2l11_ext->CD4_ext->+->1', 'PI3K->PAK1_ext->-->1'), ('Bcl2l11_ext->CD4_ext->+->1', 'ERK->PAK1_ext->+->1'), ('Bcl2l11_ext->CD4_ext->+->1', 'BIM_ext->PAK1_ext->+->1'), ('SHIP_ext->PI3K->+->1', 'SHIP1_ext->AKT->-->1'), ('SHIP_ext->PI3K->+->1', 'BAM32_ext->PAK1_ext->+->1'), ('SHIP_ext->PI3K->+->1', 'MTOR->PAK1_ext->+->1'), ('SHIP_ext->PI3K->+->1', 'siPAK1_ext->PAK1_ext->-->1'), ('SHIP_ext->PI3K->+->1', 'MTOR->AKT->+->1'), ('SHIP_ext->PI3K->+->1', 'MTOR->Pak1_ext->-->1'), ('SHIP_ext->PI3K->+->1', 'PI3K->PAK1_ext->-->1'), ('SHIP_ext->PI3K->+->1', 'ERK->PAK1_ext->+->1'), ('SHIP_ext->PI3K->+->1', 'BIM_ext->PAK1_ext->+->1'), ('SHIP1_ext->AKT->-->1', 'BAM32_ext->PAK1_ext->+->1'), ('SHIP1_ext->AKT->-->1', 'MTOR->PAK1_ext->+->1'), ('SHIP1_ext->AKT->-->1', 'siPAK1_ext->PAK1_ext->-->1'), ('SHIP1_ext->AKT->-->1', 'MTOR->AKT->+->1'), ('SHIP1_ext->AKT->-->1', 'MTOR->Pak1_ext->-->1'), ('SHIP1_ext->AKT->-->1', 'PI3K->PAK1_ext->-->1'), ('SHIP1_ext->AKT->-->1', 'ERK->PAK1_ext->+->1'), ('SHIP1_ext->AKT->-->1', 'BIM_ext->PAK1_ext->+->1'), ('BAM32_ext->PAK1_ext->+->1', 'MTOR->PAK1_ext->+->1'), ('BAM32_ext->PAK1_ext->+->1', 'siPAK1_ext->PAK1_ext->-->1'), ('BAM32_ext->PAK1_ext->+->1', 'MTOR->AKT->+->1'), ('BAM32_ext->PAK1_ext->+->1', 'MTOR->Pak1_ext->-->1'), ('BAM32_ext->PAK1_ext->+->1', 'PI3K->PAK1_ext->-->1'), ('BAM32_ext->PAK1_ext->+->1', 'ERK->PAK1_ext->+->1'), ('BAM32_ext->PAK1_ext->+->1', 'BIM_ext->PAK1_ext->+->1'), ('MTOR->PAK1_ext->+->1', 'siPAK1_ext->PAK1_ext->-->1'), ('MTOR->PAK1_ext->+->1', 'MTOR->AKT->+->1'), ('MTOR->PAK1_ext->+->1', 'MTOR->Pak1_ext->-->1'), ('MTOR->PAK1_ext->+->1', 'PI3K->PAK1_ext->-->1'), ('MTOR->PAK1_ext->+->1', 'ERK->PAK1_ext->+->1'), ('MTOR->PAK1_ext->+->1', 'BIM_ext->PAK1_ext->+->1'), ('siPAK1_ext->PAK1_ext->-->1', 'MTOR->AKT->+->1'), ('siPAK1_ext->PAK1_ext->-->1', 'MTOR->Pak1_ext->-->1'), ('siPAK1_ext->PAK1_ext->-->1', 'PI3K->PAK1_ext->-->1'), ('siPAK1_ext->PAK1_ext->-->1', 'ERK->PAK1_ext->+->1'), ('siPAK1_ext->PAK1_ext->-->1', 'BIM_ext->PAK1_ext->+->1'), ('MTOR->AKT->+->1', 'MTOR->Pak1_ext->-->1'), ('MTOR->AKT->+->1', 'PI3K->PAK1_ext->-->1'), ('MTOR->AKT->+->1', 'ERK->PAK1_ext->+->1'), ('MTOR->AKT->+->1', 'BIM_ext->PAK1_ext->+->1'), ('MTOR->Pak1_ext->-->1', 'PI3K->PAK1_ext->-->1'), ('MTOR->Pak1_ext->-->1', 'ERK->PAK1_ext->+->1'), ('MTOR->Pak1_ext->-->1', 'BIM_ext->PAK1_ext->+->1'), ('PI3K->PAK1_ext->-->1', 'ERK->PAK1_ext->+->1'), ('PI3K->PAK1_ext->-->1', 'BIM_ext->PAK1_ext->+->1'), ('ERK->PAK1_ext->+->1', 'BIM_ext->PAK1_ext->+->1'), ('PI3K->AKT->+->2', 'PI3K->PTEN->-->2'), ('PI3K->AKT->+->2', 'PTEN->AKT->+->2'), ('PI3K->AKT->+->2', 'RAS->PTEN->-->2'), ('PI3K->AKT->+->2', 'P53_ext->PTEN->-->2'), ('PI3K->AKT->+->2', 'PTEN->AKT->-->2'), ('PI3K->AKT->+->2', 'PI3K->PTEN->+->2'), ('PI3K->PTEN->-->2', 'PTEN->AKT->+->2'), ('PI3K->PTEN->-->2', 'RAS->PTEN->-->2'), ('PI3K->PTEN->-->2', 'P53_ext->PTEN->-->2'), ('PI3K->PTEN->-->2', 'PTEN->AKT->-->2'), ('PI3K->PTEN->-->2', 'PI3K->PTEN->+->2'), ('PTEN->AKT->+->2', 'RAS->PTEN->-->2'), ('PTEN->AKT->+->2', 'P53_ext->PTEN->-->2'), ('PTEN->AKT->+->2', 'PTEN->AKT->-->2'), ('PTEN->AKT->+->2', 'PI3K->PTEN->+->2'), ('RAS->PTEN->-->2', 'P53_ext->PTEN->-->2'), ('RAS->PTEN->-->2', 'PTEN->AKT->-->2'), ('RAS->PTEN->-->2', 'PI3K->PTEN->+->2'), ('P53_ext->PTEN->-->2', 'PTEN->AKT->-->2'), ('P53_ext->PTEN->-->2', 'PI3K->PTEN->+->2'), ('PTEN->AKT->-->2', 'PI3K->PTEN->+->2'), ('CK2_ext->CD4_ext->+->2', 'SP_ext->CD69_ext->+->2'), ('CK2_ext->CD4_ext->+->2', 'CK2_ext->CDC37_ext->+->2'), ('CK2_ext->CD4_ext->+->2', 'CK2_ext->AKT->+->2'), ('CK2_ext->CD4_ext->+->2', 'ERK->CK2_ext->+->2'), ('CK2_ext->CD4_ext->+->2', 'Bcl2_ext->CD3_ext->+->2'), ('CK2_ext->CD4_ext->+->2', 'CD5_ext->CK2_ext->+->2'), ('CK2_ext->CD4_ext->+->2', 'CD5_ext->P38_ext->+->2'), ('CK2_ext->CD4_ext->+->2', 'P38_ext->CD5_ext->+->2'), ('SP_ext->CD69_ext->+->2', 'CK2_ext->CDC37_ext->+->2'), ('SP_ext->CD69_ext->+->2', 'CK2_ext->AKT->+->2'), ('SP_ext->CD69_ext->+->2', 'ERK->CK2_ext->+->2'), ('SP_ext->CD69_ext->+->2', 'Bcl2_ext->CD3_ext->+->2'), ('SP_ext->CD69_ext->+->2', 'CD5_ext->CK2_ext->+->2'), ('SP_ext->CD69_ext->+->2', 'CD5_ext->P38_ext->+->2'), ('SP_ext->CD69_ext->+->2', 'P38_ext->CD5_ext->+->2'), ('CK2_ext->CDC37_ext->+->2', 'CK2_ext->AKT->+->2'), ('CK2_ext->CDC37_ext->+->2', 'ERK->CK2_ext->+->2'), ('CK2_ext->CDC37_ext->+->2', 'Bcl2_ext->CD3_ext->+->2'), ('CK2_ext->CDC37_ext->+->2', 'CD5_ext->CK2_ext->+->2'), ('CK2_ext->CDC37_ext->+->2', 'CD5_ext->P38_ext->+->2'), ('CK2_ext->CDC37_ext->+->2', 'P38_ext->CD5_ext->+->2'), ('CK2_ext->AKT->+->2', 'ERK->CK2_ext->+->2'), ('CK2_ext->AKT->+->2', 'Bcl2_ext->CD3_ext->+->2'), ('CK2_ext->AKT->+->2', 'CD5_ext->CK2_ext->+->2'), ('CK2_ext->AKT->+->2', 'CD5_ext->P38_ext->+->2'), ('CK2_ext->AKT->+->2', 'P38_ext->CD5_ext->+->2'), ('ERK->CK2_ext->+->2', 'Bcl2_ext->CD3_ext->+->2'), ('ERK->CK2_ext->+->2', 'CD5_ext->CK2_ext->+->2'), ('ERK->CK2_ext->+->2', 'CD5_ext->P38_ext->+->2'), ('ERK->CK2_ext->+->2', 'P38_ext->CD5_ext->+->2'), ('Bcl2_ext->CD3_ext->+->2', 'CD5_ext->CK2_ext->+->2'), ('Bcl2_ext->CD3_ext->+->2', 'CD5_ext->P38_ext->+->2'), ('Bcl2_ext->CD3_ext->+->2', 'P38_ext->CD5_ext->+->2'), ('CD5_ext->CK2_ext->+->2', 'CD5_ext->P38_ext->+->2'), ('CD5_ext->CK2_ext->+->2', 'P38_ext->CD5_ext->+->2'), ('CD5_ext->P38_ext->+->2', 'P38_ext->CD5_ext->+->2')]\n"
     ]
    }
   ],
   "source": [
    "print(G.edges())"
   ]
  },
  {
   "cell_type": "code",
   "execution_count": 41,
   "metadata": {
    "scrolled": true
   },
   "outputs": [
    {
     "name": "stdout",
     "output_type": "stream",
     "text": [
      "merge:\n",
      "0 and 4\n",
      "merge:\n",
      "1 and 4\n",
      "merge:\n",
      "2 and 4\n",
      "merge:\n",
      "3 and 4\n"
     ]
    }
   ],
   "source": [
    "merge_clusters(regulators, out_dir, return_path_TH)"
   ]
  },
  {
   "cell_type": "code",
   "execution_count": null,
   "metadata": {},
   "outputs": [],
   "source": []
  },
  {
   "cell_type": "code",
   "execution_count": null,
   "metadata": {},
   "outputs": [],
   "source": []
  },
  {
   "cell_type": "code",
   "execution_count": null,
   "metadata": {},
   "outputs": [],
   "source": []
  },
  {
   "cell_type": "code",
   "execution_count": null,
   "metadata": {},
   "outputs": [],
   "source": []
  },
  {
   "cell_type": "code",
   "execution_count": null,
   "metadata": {},
   "outputs": [],
   "source": []
  }
 ],
 "metadata": {
  "kernelspec": {
   "display_name": "Python 3 (ipykernel)",
   "language": "python",
   "name": "python3"
  },
  "language_info": {
   "codemirror_mode": {
    "name": "ipython",
    "version": 3
   },
   "file_extension": ".py",
   "mimetype": "text/x-python",
   "name": "python",
   "nbconvert_exporter": "python",
   "pygments_lexer": "ipython3",
   "version": "3.7.9"
  }
 },
 "nbformat": 4,
 "nbformat_minor": 2
}
